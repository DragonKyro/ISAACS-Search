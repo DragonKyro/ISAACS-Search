{
 "cells": [
  {
   "cell_type": "code",
   "execution_count": 1,
   "metadata": {},
   "outputs": [],
   "source": [
    "#Imports\n",
    "import numpy as np"
   ]
  },
  {
   "cell_type": "code",
   "execution_count": 2,
   "metadata": {},
   "outputs": [],
   "source": [
    "# Problem Parameters\n",
    "start = (0,0,0)\n",
    "end = (50,50,50)\n",
    "x_range = np.linspace(0, 100, num=101)\n",
    "y_range = np.linspace(0, 100, num=101)\n",
    "z_range = np.linspace(0, 100, num=101)\n",
    "yaw_range = np.linspace(0, 360, num=361)"
   ]
  },
  {
   "cell_type": "code",
   "execution_count": 5,
   "metadata": {},
   "outputs": [],
   "source": [
    "# Node\n",
    "class Node():\n",
    "    def __init__(self, x, y, z, yaw, parent=None):\n",
    "        self.x = x\n",
    "        self.y = y\n",
    "        self.z = z\n",
    "        self.yaw = yaw\n",
    "        self.parent = parent\n",
    "        \n",
    "        #self.children = []\n",
    "        \n",
    "        self.g = 0\n",
    "        self.h = 0\n",
    "        self.f = 0\n",
    "        \n",
    "    def __eq__(self, other):\n",
    "        a = (self.x == other.x)\n",
    "        b = (self.y == other.y)\n",
    "        c = (self.z == other.z)\n",
    "        d = (self.yaw == other.yaw)\n",
    "        return a and b and c and d"
   ]
  },
  {
   "cell_type": "code",
   "execution_count": null,
   "metadata": {},
   "outputs": [],
   "source": [
    "# Graph\n",
    "class Graph():\n",
    "    def __init__(self, x_range, y_range, z_range, yaw_range):\n",
    "        self.nodes = dict()\n",
    "        \n",
    "        # Populate dictionary keys\n",
    "        for x in x_range:\n",
    "            for y in y_range:\n",
    "                for z in z_range:\n",
    "                    for yaw in yaw_range:\n",
    "                        self.nodes[Node(x, y , z, yaw)] = []\n",
    "                        \n",
    "        for k in self.nodes.keys():\n",
    "            if k.x > min(x_range):\n",
    "                self.nodes[k].append(Node(x - 1, y, z, yaw))\n",
    "            self.nodes[k]\n",
    "        "
   ]
  },
  {
   "cell_type": "code",
   "execution_count": null,
   "metadata": {},
   "outputs": [],
   "source": [
    "def return_path():\n",
    "    return"
   ]
  },
  {
   "cell_type": "code",
   "execution_count": null,
   "metadata": {},
   "outputs": [],
   "source": [
    "def search(x_range, y_range, z_range, yaw_range, cost, start, end):\n",
    "    # Create start ad end nodes\n",
    "    start_node = Node(start[0], start[1], start[2])\n",
    "    start_node.g = start_node.h = start_node.f = 0\n",
    "    end_node = Node(end[0], end[1], end[2])\n",
    "    end_node.g = end_node.h = end_node.f = 0\n",
    "    \n",
    "    # Initialize lists\n",
    "    yet_to_visit_list = []\n",
    "    visited_list = []\n",
    "    yet_to_visit_list.append(start_node)\n",
    "    \n",
    "    # Process Queue\n",
    "    while len(yet_to_visit_list > 0):\n",
    "        \n",
    "        # Get current node (min f)\n",
    "        curr_node = yet_to_visit_list[0]\n",
    "        curr_index = 0\n",
    "        for index, item in enumerate(yet_to_visit_list):\n",
    "            if item.f < curr_node.f:\n",
    "                curr_node = item\n",
    "                curr_index = index\n",
    "                \n",
    "        # Pop current node\n",
    "        yet_to_visit_list.pop(curr_index)\n",
    "        visited_list.append(curr_node)\n",
    "        \n",
    "        if curr_node == end_node:\n",
    "            # Fixme\n",
    "            return return_path()\n",
    "    "
   ]
  }
 ],
 "metadata": {
  "kernelspec": {
   "display_name": "Python 3",
   "language": "python",
   "name": "python3"
  },
  "language_info": {
   "codemirror_mode": {
    "name": "ipython",
    "version": 3
   },
   "file_extension": ".py",
   "mimetype": "text/x-python",
   "name": "python",
   "nbconvert_exporter": "python",
   "pygments_lexer": "ipython3",
   "version": "3.7.3"
  }
 },
 "nbformat": 4,
 "nbformat_minor": 2
}
