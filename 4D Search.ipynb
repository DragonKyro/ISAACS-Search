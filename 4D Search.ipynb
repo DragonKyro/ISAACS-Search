{
 "cells": [
  {
   "cell_type": "code",
   "execution_count": 1,
   "metadata": {},
   "outputs": [],
   "source": [
    "#Imports\n",
    "import numpy as np"
   ]
  },
  {
   "cell_type": "code",
   "execution_count": 2,
   "metadata": {},
   "outputs": [],
   "source": [
    "# Problem Parameters\n",
    "start = (0,0,0)\n",
    "end = (50,50,50)\n",
    "x_range = np.linspace(0, 100, num=101)\n",
    "y_range = np.linspace(0, 100, num=101)\n",
    "z_range = np.linspace(0, 100, num=101)\n",
    "yaw_range = np.linspace(0, 360, num=361)"
   ]
  },
  {
   "cell_type": "code",
   "execution_count": 5,
   "metadata": {},
   "outputs": [],
   "source": [
    "# Node\n",
    "class Node():\n",
    "    def __init__(self, x, y, z, yaw):\n",
    "        self.x = x\n",
    "        self.y = y\n",
    "        self.z = z\n",
    "        self.yaw = yaw\n",
    "        \n",
    "        self.children = []\n",
    "        \n",
    "        self.g = 0\n",
    "        self.h = 0\n",
    "        self.f = 0\n",
    "        \n",
    "    def __eq__(self, other):\n",
    "        a = (self.x == other.x)\n",
    "        b = (self.y == other.y)\n",
    "        c = (self.z == other.z)\n",
    "        d = (self.yaw == other.yaw)\n",
    "        return a and b and c and d"
   ]
  },
  {
   "cell_type": "code",
   "execution_count": null,
   "metadata": {},
   "outputs": [],
   "source": [
    "# Generate "
   ]
  }
 ],
 "metadata": {
  "kernelspec": {
   "display_name": "Python 3",
   "language": "python",
   "name": "python3"
  },
  "language_info": {
   "codemirror_mode": {
    "name": "ipython",
    "version": 3
   },
   "file_extension": ".py",
   "mimetype": "text/x-python",
   "name": "python",
   "nbconvert_exporter": "python",
   "pygments_lexer": "ipython3",
   "version": "3.7.3"
  }
 },
 "nbformat": 4,
 "nbformat_minor": 2
}
