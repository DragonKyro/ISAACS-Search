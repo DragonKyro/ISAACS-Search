{
  "nbformat": 4,
  "nbformat_minor": 0,
  "metadata": {
    "kernelspec": {
      "display_name": "Python 3",
      "language": "python",
      "name": "python3"
    },
    "language_info": {
      "codemirror_mode": {
        "name": "ipython",
        "version": 3
      },
      "file_extension": ".py",
      "mimetype": "text/x-python",
      "name": "python",
      "nbconvert_exporter": "python",
      "pygments_lexer": "ipython3",
      "version": "3.7.3"
    },
    "colab": {
      "name": "4D Search.ipynb",
      "provenance": []
    }
  },
  "cells": [
    {
      "cell_type": "code",
      "metadata": {
        "id": "-v1GPKYwpdqI"
      },
      "source": [
        "#Imports\n",
        "import numpy as np\n",
        "import heapq"
      ],
      "execution_count": 3,
      "outputs": []
    },
    {
      "cell_type": "code",
      "metadata": {
        "id": "X_g082s0pdqM"
      },
      "source": [
        "# Problem Parameters\n",
        "start = (0,0,0)\n",
        "end = (50,50,50)\n",
        "x_range = np.linspace(0, 100, num=101)\n",
        "x_diff = x_range[1] - x_range[0]\n",
        "y_range = np.linspace(0, 100, num=101)\n",
        "y_diff = y_range[1] - y_range[0]\n",
        "z_range = np.linspace(0, 100, num=101)\n",
        "z_diff = z_range[1] - z_range[0]\n",
        "yaw_range = np.linspace(0, 360, num=361)\n",
        "yaw_diff = yaw_range[1] - yaw_range[0]"
      ],
      "execution_count": 2,
      "outputs": []
    },
    {
      "cell_type": "code",
      "metadata": {
        "id": "pxOGa_P7qg9S"
      },
      "source": [
        "class PriorityQueue():\n",
        "  \"\"\"Priority Queue credit to CS 188 instructors\"\"\"\n",
        "  def __init__(self):\n",
        "    self.heap = []\n",
        "    self.count = 0\n",
        "\n",
        "  def push(self, item, priority):\n",
        "    entry = (priority, self.count, item)\n",
        "    heapq.heappush(self.heap, entry)\n",
        "    self.count += 1\n",
        "  \n",
        "  def pop(self):\n",
        "    (_, _, item) = heapq.heappop(self.heap)\n",
        "    return item\n",
        "\n",
        "  def isEmpty(self):\n",
        "    return len(self.heap) == 0\n"
      ],
      "execution_count": 5,
      "outputs": []
    },
    {
      "cell_type": "code",
      "metadata": {
        "id": "3JB_AKk6rpGO",
        "outputId": "37fc9c89-c3dd-4f4b-ae83-2b9877392ede",
        "colab": {
          "base_uri": "https://localhost:8080/"
        }
      },
      "source": [
        "# Test Priority Queue Class\n",
        "\n",
        "testPQ = PriorityQueue()\n",
        "print(testPQ.isEmpty())\n",
        "testNodeOne = Node(1, 1, 1, 1)\n",
        "testNodeTwo = Node(2, 2, 2, 2)\n",
        "testNodeThree = Node(3, 3, 3, 3)\n",
        "testPQ.push(testNodeOne, 1)\n",
        "testPQ.push(testNodeThree, 3)\n",
        "testPQ.push(testNodeTwo, 2)\n",
        "print(testPQ.pop().x)\n",
        "print(testPQ.pop().x)\n",
        "print(testPQ.pop().x)\n",
        "print(testPQ.isEmpty())"
      ],
      "execution_count": 8,
      "outputs": [
        {
          "output_type": "stream",
          "name": "stdout",
          "text": [
            "True\n",
            "1\n",
            "2\n",
            "3\n",
            "True\n"
          ]
        }
      ]
    },
    {
      "cell_type": "code",
      "metadata": {
        "id": "YaoQsJHwpdqN"
      },
      "source": [
        "# Node\n",
        "class Node():\n",
        "    def __init__(self, x, y, z, yaw=0, parent=None):\n",
        "        self.x = x\n",
        "        self.y = y\n",
        "        self.z = z\n",
        "        self.yaw = yaw\n",
        "        #Parent is used later on to get the path to the end node by backtracking through parents\n",
        "        self.parent = parent\n",
        "        \n",
        "        #self.children = []\n",
        "        \n",
        "        #g is backwards cost\n",
        "        self.g = 0\n",
        "        #h is heuristic, estimated forward cost\n",
        "        self.h = 0\n",
        "        #f is estimated total cost, g + h\n",
        "        self.f = 0\n",
        "        \n",
        "    def __eq__(self, other):\n",
        "        a = (self.x == other.x)\n",
        "        b = (self.y == other.y)\n",
        "        c = (self.z == other.z)\n",
        "        #d = (self.yaw == other.yaw)\n",
        "        #return a and b and c and d\n",
        "        return a and b and c"
      ],
      "execution_count": 6,
      "outputs": []
    },
    {
      "cell_type": "code",
      "metadata": {
        "id": "oHn57M09pdqN"
      },
      "source": [
        "# Graph\n",
        "class Graph():\n",
        "    def __init__(self, x_range, y_range, z_range, yaw_range):\n",
        "        self.nodes = dict()\n",
        "        \n",
        "        # Populate dictionary keys\n",
        "        for x in x_range:\n",
        "            for y in y_range:\n",
        "                for z in z_range:\n",
        "                    for yaw in yaw_range:\n",
        "                        self.nodes[Node(x, y , z, yaw)] = []\n",
        "                        \n",
        "        for k in self.nodes.keys():\n",
        "            if k.x > min(x_range):\n",
        "                self.nodes[k].append(Node(x - 1, y, z, yaw))\n",
        "            self.nodes[k]\n",
        "        "
      ],
      "execution_count": null,
      "outputs": []
    },
    {
      "cell_type": "code",
      "metadata": {
        "id": "ga1yh8pdpdqO"
      },
      "source": [
        "def return_path():\n",
        "    #What is the format of the path we're returning?\n",
        "    return"
      ],
      "execution_count": null,
      "outputs": []
    },
    {
      "cell_type": "code",
      "metadata": {
        "id": "582Qi6yIpdqP"
      },
      "source": [
        "def search(x_range, y_range, z_range, yaw_range, cost, start, end):\n",
        "    # Create start and end nodes\n",
        "    start_node = Node(start[0], start[1], start[2])\n",
        "    start_node.g = start_node.h = start_node.f = 0\n",
        "    end_node = Node(end[0], end[1], end[2])\n",
        "    end_node.g = end_node.h = end_node.f = 0\n",
        "    \n",
        "    # Initialize lists\n",
        "    #yet_to_visit_list = []\n",
        "    fringe = PriorityQueue()\n",
        "    visited_list = []\n",
        "    #yet_to_visit_list.append(start_node)\n",
        "    fringe.push(start_node, start_node.f)\n",
        "    \n",
        "    \"\"\"\n",
        "    # Process Queue\n",
        "    while len(yet_to_visit_list > 0):\n",
        "        \n",
        "        # Get current node (min f)\n",
        "        curr_node = yet_to_visit_list[0]\n",
        "        curr_index = 0\n",
        "        for index, item in enumerate(yet_to_visit_list):\n",
        "            if item.f < curr_node.f:\n",
        "                curr_node = item\n",
        "                curr_index = index\n",
        "                \n",
        "        # Pop current node\n",
        "        yet_to_visit_list.pop(curr_index)\n",
        "        visited_list.append(curr_node)\n",
        "        \n",
        "        if curr_node == end_node:\n",
        "            # Fixme\n",
        "            return return_path()\n",
        "    \"\"\"\n",
        "    #Are these moves right? Can the drone move laterally or does it have to rotate to face the right then move forward to go right?\n",
        "    moves = [[-x_diff, 0, 0, 0], #go left\n",
        "             [x_diff, 0, 0, 0], #go right\n",
        "             [0, -y_diff, 0, 0], #go down\n",
        "             [0, y_diff, 0, 0], #go up\n",
        "             [0, 0, -z_diff, 0], #go forwards\n",
        "             [0, 0, z_diff, 0], #go backwards\n",
        "             [0, 0, 0, -yaw_diff], #rotate to the right\n",
        "             [0, 0, 0, yaw_diff]] #rotate to the left\n",
        "\n",
        "    while not fringe.isEmpty():\n",
        "      curr_node = fringe.pop()\n",
        "      visited_list.append(curr_node)\n",
        "\n",
        "      if curr_node == end_node:\n",
        "        return return_path(curr_node)\n",
        "      curr_children = []\n",
        "      for move in moves:\n",
        "        moveCost = 0\n",
        "        if move[0] != 0:\n",
        "          child_x = curr_node.x + move[0]\n",
        "          moveCost = x_diff\n",
        "        elif move[1] != 0:\n",
        "          child_y = curr_node.y + move[1]\n",
        "          moveCost = y_diff\n",
        "        elif move[2] != 0:\n",
        "          child_z = curr_node.z + move[2]\n",
        "          moveCost = z_diff\n",
        "        elif move[3] != 0:\n",
        "          child_yaw = curr_node.yaw + move[3]\n",
        "          moveCost = yaw_diff\n",
        "        child_node = Node(child_x, child_y, child_z, child_yaw, curr_node)\n",
        "        if child_node not in visited_list:\n",
        "          child_node.g = curr_node.g + moveCost\n",
        "          #Get heuristic -- Euclidian distance?\n",
        "          #child_node.h = \n",
        "          child_node.f = child_node.g + child_node.h\n",
        "          curr_children.append(child_node)\n",
        "          \n",
        "      for child in curr_children:\n",
        "        fringe.push(child, child.f)\n",
        "\n",
        "    "
      ],
      "execution_count": null,
      "outputs": []
    }
  ]
}